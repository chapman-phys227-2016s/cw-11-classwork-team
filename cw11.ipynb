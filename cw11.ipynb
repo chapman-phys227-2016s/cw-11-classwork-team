{
 "cells": [
  {
   "cell_type": "markdown",
   "metadata": {
    "collapsed": false
   },
   "source": [
    "# Homework 11\n",
    "\n",
    "### Taylor Patti, Andrew Malfavon, Michael Seaman, Austin Ayers, Chinmai Raman\n",
    "\n",
    "### 4/26/2016"
   ]
  },
  {
   "cell_type": "markdown",
   "metadata": {},
   "source": [
    "### Sombrero\n",
    "\n",
    "A fourth order Runga Kutta is used to model a sombrero potential subjected to both drag and a harmonic shaking motion. A ball in the sombrero potential has potential energy described by $V(x) = x^4/4 - x^2/2$. Taking the negative spacial derivative of this potential gives us the force from the sombrero as $f_{\\text{hat}}(x) = -V'(x) = -x^3 + x$. To provide for a more realistic ball trajectory, we include a drag force of $f_{\\text{drag}}(\\dot{x}) = -\\delta \\dot{x}$ and just to mix things up we also include a driving force of $f_{\\text{drive}}(t) = F\\cos(\\omega t)$. This leads to a total Newton's Second Law of:\n",
    "\n",
    " $$m\\ddot{x} = f_{\\text{hat}}(x) + f_{\\text{drag}}(\\dot{x}) + f_{\\text{drive}}(t) = x - x^3 - \\delta \\dot{x} + F\\cos(\\omega t)$$\n",
    " \n",
    " To make this easier, we can actually split this into two separate differential equations:\n",
    " \n",
    " $$\\dot{x}(t) = y(t)$$\n",
    "\n",
    " $$m\\dot{y}(t) = -\\delta y(t) + x(t) - x^3(t) + F\\cos(\\omega t)$$\n",
    " \n",
    " Our choice of parameters will be $m=1$, $\\delta = 0.25$, and $\\omega = 1$. For the 4th-order Runge-Kutta we will use the time-step size of $\\Delta t = 0.001$.\n",
    " \n",
    "We begin with a parameter set of $F = 0.18$, $x(0) = -0.9$, and $y(0) = 0$. Here we plot $x(t)$ for $t\\in[0,2\\pi\\, 50]$ with  $t = n 2\\pi$ for $n = 0,1,\\ldots,50$. Then we do the same plot but as a two-dimensional parametric plot of x and y, this is known as a Poincare section of this parametric curve."
   ]
  },
  {
   "cell_type": "markdown",
   "metadata": {
    "collapsed": true
   },
   "source": [
    "Just to remember the test case that Chinmai + Michael did:\n",
    "\n",
    "$\\delta = -.25$\n",
    "$\\omega = 1$\n",
    "$F = .4 $\n",
    "$x_0 = y_0 = 0$\n",
    "\n",
    "In [2]: Kx1 = 0\n",
    " \n",
    "In [3]: Ky1 = 4E-4\n",
    " \n",
    "In [4]: Kx2 = 2E-7\n",
    " \n",
    "In [5]: Ky2 = 3.9995E-4\n",
    " \n",
    "In [6]: Kx3 = 1.99975E-7\n",
    " \n",
    "In [7]: Ky3 = -9.99374E-5\n",
    " \n",
    "In [8]: Kx4 = -9.99374E-8\n",
    " \n",
    "In [9]: Ky4 = 4.000251843E-4\n",
    " \n",
    "In [10]: (Kx1 + 2*Kx2 + 2Kx3 + Kx4)/6.0\n",
    "  File \"<ipython-input-10-b69910847526>\", line 1\n",
    "    (Kx1 + 2*Kx2 + 2Kx3 + Kx4)/6.0\n",
    "                      ^\n",
    "SyntaxError: invalid syntax\n",
    " \n",
    " \n",
    "In [11]: (Kx1 + 2*Kx2 + 2*Kx3 + Kx4)/6.0\n",
    "Out[11]: 1.1666876666666666e-07\n",
    " \n",
    "In [12]: (Ky1 + 2*Ky2 + 2*Ky3 + Ky4)/6.0\n",
    "Out[12]: 0.00023334173071666665"
   ]
  },
  {
   "cell_type": "code",
   "execution_count": null,
   "metadata": {
    "collapsed": true
   },
   "outputs": [],
   "source": []
  }
 ],
 "metadata": {
  "kernelspec": {
   "display_name": "Python 2 (SageMath)",
   "language": "python",
   "name": "python2"
  },
  "language_info": {
   "codemirror_mode": {
    "name": "ipython",
    "version": 2
   },
   "file_extension": ".py",
   "mimetype": "text/x-python",
   "name": "python",
   "nbconvert_exporter": "python",
   "pygments_lexer": "ipython2",
   "version": "2.7.10"
  }
 },
 "nbformat": 4,
 "nbformat_minor": 0
}
